{
  "nbformat": 4,
  "nbformat_minor": 0,
  "metadata": {
    "colab": {
      "provenance": [],
      "toc_visible": true,
      "authorship_tag": "ABX9TyOBxL80MqqXt9YmJBz6pkel",
      "include_colab_link": true
    },
    "kernelspec": {
      "name": "python3",
      "display_name": "Python 3"
    },
    "language_info": {
      "name": "python"
    }
  },
  "cells": [
    {
      "cell_type": "markdown",
      "metadata": {
        "id": "view-in-github",
        "colab_type": "text"
      },
      "source": [
        "<a href=\"https://colab.research.google.com/github/Anuragkudtarkar/Project---Forecasting-System---Project-Demand-of-Products-at-a-Retail-Outlet-/blob/main/Untitled5.ipynb\" target=\"_parent\"><img src=\"https://colab.research.google.com/assets/colab-badge.svg\" alt=\"Open In Colab\"/></a>"
      ]
    },
    {
      "cell_type": "code",
      "execution_count": null,
      "metadata": {
        "id": "gLBvNbaITTpJ"
      },
      "outputs": [],
      "source": [
        "import pandas as pd\n",
        "from sklearn.ensemble import AdaBoostClassifier\n",
        "from sklearn.model_selection import train_test_split\n",
        "from sklearn import metrics\n",
        "import warnings\n",
        "warnings.filterwarnings('ignore')"
      ]
    },
    {
      "cell_type": "code",
      "source": [],
      "metadata": {
        "id": "aEFcptnhmjPU"
      },
      "execution_count": null,
      "outputs": []
    },
    {
      "cell_type": "markdown",
      "source": [],
      "metadata": {
        "id": "td5eL2gFmzJe"
      }
    },
    {
      "cell_type": "code",
      "source": [
        "data =pd.read_csv('/content/sample_data/california_housing_train.csv')\n",
        "data.head()\n",
        "data.shape"
      ],
      "metadata": {
        "colab": {
          "base_uri": "https://localhost:8080/"
        },
        "id": "Z4qCjY5lUCEA",
        "outputId": "0842e00f-cd59-4e32-9dd8-cd8fe2b28326"
      },
      "execution_count": null,
      "outputs": [
        {
          "output_type": "execute_result",
          "data": {
            "text/plain": [
              "(17000, 9)"
            ]
          },
          "metadata": {},
          "execution_count": 9
        }
      ]
    },
    {
      "cell_type": "code",
      "source": [
        "x=data.iloc[:,0:8]\n",
        "y=data.iloc[:,8]\n",
        "\n",
        "x_train,x_test,y_train,y_test=train_test_split(x,y,test_size=0.2)\n",
        "print(x_train)\n"
      ],
      "metadata": {
        "colab": {
          "base_uri": "https://localhost:8080/"
        },
        "id": "_Wq1IeuTUvuc",
        "outputId": "cefcccdd-9627-467d-c271-2a2e41ea4b36"
      },
      "execution_count": null,
      "outputs": [
        {
          "output_type": "stream",
          "name": "stdout",
          "text": [
            "       longitude  latitude  housing_median_age  total_rooms  total_bedrooms  \\\n",
            "531      -117.00     32.71                22.0       2263.0           441.0   \n",
            "16369    -122.53     37.96                35.0        908.0           194.0   \n",
            "14450    -122.13     37.69                17.0       2380.0           769.0   \n",
            "8243     -118.44     34.00                44.0       1798.0           353.0   \n",
            "5176     -118.13     33.92                36.0        984.0           183.0   \n",
            "...          ...       ...                 ...          ...             ...   \n",
            "10990    -120.93     37.72                18.0        391.0            71.0   \n",
            "13719    -122.00     37.82                20.0       2206.0           458.0   \n",
            "6330     -118.25     33.89                36.0        406.0            71.0   \n",
            "16549    -122.68     41.15                32.0        817.0           206.0   \n",
            "4206     -117.99     33.70                25.0       2017.0           357.0   \n",
            "\n",
            "       population  households  median_income  \n",
            "531        1395.0       416.0         3.7250  \n",
            "16369       413.0       197.0         3.9917  \n",
            "14450      1216.0       643.0         3.3950  \n",
            "8243        835.0       314.0         4.7500  \n",
            "5176        615.0       206.0         4.1786  \n",
            "...           ...         ...            ...  \n",
            "10990       247.0        71.0         4.3864  \n",
            "13719       926.0       432.0         4.6042  \n",
            "6330        268.0        77.0         3.9000  \n",
            "16549       224.0        89.0         3.6310  \n",
            "4206       1063.0       369.0         4.0345  \n",
            "\n",
            "[13600 rows x 8 columns]\n"
          ]
        }
      ]
    },
    {
      "cell_type": "code",
      "source": [
        "AdaBoost=AdaBoostClassifier(n_estimators=100,learning_rate=1)\n",
        "model=AdaBoost.fit(x_train,y_train)\n",
        "y_pred=model.predict(x_test)\n",
        "print(\"Accuray of the model:\",metrics.accuracy_score(y_test,y_pred))"
      ],
      "metadata": {
        "colab": {
          "base_uri": "https://localhost:8080/"
        },
        "id": "60gaXQGMWLIk",
        "outputId": "d742f760-58d0-4f8c-c4ec-59704ed57a9e"
      },
      "execution_count": null,
      "outputs": [
        {
          "output_type": "stream",
          "name": "stdout",
          "text": [
            "Accuray of the model: 0.05\n"
          ]
        }
      ]
    },
    {
      "cell_type": "code",
      "source": [
        "from sklearn.linear_model import LogisticRegression\n",
        "modelreg=LogisticRegression()\n",
        "adbc=AdaBoostClassifier(n_estimators=50,base_estimator=modelreg,learning_rate=1)\n"
      ],
      "metadata": {
        "colab": {
          "base_uri": "https://localhost:8080/",
          "height": 211
        },
        "id": "538AkvXVXU2Q",
        "outputId": "23f762bd-b12a-4e44-c29c-2e3bb1a05aa4"
      },
      "execution_count": null,
      "outputs": [
        {
          "output_type": "error",
          "ename": "TypeError",
          "evalue": "AdaBoostClassifier.__init__() got an unexpected keyword argument 'base_estimator'",
          "traceback": [
            "\u001b[0;31m---------------------------------------------------------------------------\u001b[0m",
            "\u001b[0;31mTypeError\u001b[0m                                 Traceback (most recent call last)",
            "\u001b[0;32m<ipython-input-17-648b5a95123a>\u001b[0m in \u001b[0;36m<cell line: 3>\u001b[0;34m()\u001b[0m\n\u001b[1;32m      1\u001b[0m \u001b[0;32mfrom\u001b[0m \u001b[0msklearn\u001b[0m\u001b[0;34m.\u001b[0m\u001b[0mlinear_model\u001b[0m \u001b[0;32mimport\u001b[0m \u001b[0mLogisticRegression\u001b[0m\u001b[0;34m\u001b[0m\u001b[0;34m\u001b[0m\u001b[0m\n\u001b[1;32m      2\u001b[0m \u001b[0mmodelreg\u001b[0m\u001b[0;34m=\u001b[0m\u001b[0mLogisticRegression\u001b[0m\u001b[0;34m(\u001b[0m\u001b[0;34m)\u001b[0m\u001b[0;34m\u001b[0m\u001b[0;34m\u001b[0m\u001b[0m\n\u001b[0;32m----> 3\u001b[0;31m \u001b[0madbc\u001b[0m\u001b[0;34m=\u001b[0m\u001b[0mAdaBoostClassifier\u001b[0m\u001b[0;34m(\u001b[0m\u001b[0mn_estimators\u001b[0m\u001b[0;34m=\u001b[0m\u001b[0;36m50\u001b[0m\u001b[0;34m,\u001b[0m\u001b[0mbase_estimator\u001b[0m\u001b[0;34m=\u001b[0m\u001b[0mmodelreg\u001b[0m\u001b[0;34m,\u001b[0m\u001b[0mlearning_rate\u001b[0m\u001b[0;34m=\u001b[0m\u001b[0;36m1\u001b[0m\u001b[0;34m)\u001b[0m\u001b[0;34m\u001b[0m\u001b[0;34m\u001b[0m\u001b[0m\n\u001b[0m",
            "\u001b[0;31mTypeError\u001b[0m: AdaBoostClassifier.__init__() got an unexpected keyword argument 'base_estimator'"
          ]
        }
      ]
    }
  ]
}